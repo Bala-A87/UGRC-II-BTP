{
 "cells": [
  {
   "cell_type": "code",
   "execution_count": 1,
   "metadata": {},
   "outputs": [],
   "source": [
    "import numpy as np \n",
    "import matplotlib.pyplot as plt "
   ]
  },
  {
   "cell_type": "code",
   "execution_count": 2,
   "metadata": {},
   "outputs": [],
   "source": [
    "def sign(x):\n",
    "    return (x >= 0).astype(int)*2 - 1"
   ]
  },
  {
   "cell_type": "code",
   "execution_count": 37,
   "metadata": {},
   "outputs": [
    {
     "data": {
      "text/plain": [
       "((2000, 2), array([ 1.24975816, -1.58432837]))"
      ]
     },
     "execution_count": 37,
     "metadata": {},
     "output_type": "execute_result"
    }
   ],
   "source": [
    "d = 2\n",
    "w = np.random.randn(d)\n",
    "# X = np.column_stack([\n",
    "#     np.linspace(-10., 10., 201),\n",
    "#     np.ones((201, d-1))\n",
    "# ])\n",
    "X = np.random.randn(2000, d) * 10. - 5. \n",
    "X.shape, w"
   ]
  },
  {
   "cell_type": "code",
   "execution_count": 38,
   "metadata": {},
   "outputs": [
    {
     "data": {
      "text/plain": [
       "(2000,)"
      ]
     },
     "execution_count": 38,
     "metadata": {},
     "output_type": "execute_result"
    }
   ],
   "source": [
    "Y = sign(X @ w)\n",
    "Y.shape"
   ]
  },
  {
   "cell_type": "code",
   "execution_count": 5,
   "metadata": {},
   "outputs": [],
   "source": [
    "from typing import Literal, Mapping\n",
    "from numpy import ndarray\n",
    "from numpy.random import RandomState\n",
    "from sklearn.linear_model import LogisticRegression\n",
    "\n",
    "class LogisticRegressionButBetter(LogisticRegression):\n",
    "    def __init__(self, penalty: Literal['l1', 'l2', 'elasticnet'] | None = \"l2\", *, dual: bool = False, tol: float = 0.0001, C: float = 1, fit_intercept: bool = True, intercept_scaling: float = 1, class_weight: Mapping | str | None = None, random_state: int | RandomState | None = None, solver: Literal['lbfgs', 'liblinear', 'newton-cg', 'newton-cholesky', 'sag', 'saga'] = \"lbfgs\", max_iter: int = 100, multi_class: Literal['auto', 'ovr', 'multinomial'] = \"auto\", verbose: int = 0, warm_start: bool = False, n_jobs: int | None = None, l1_ratio: float | None = None) -> None:\n",
    "        super().__init__(penalty, dual=dual, tol=tol, C=C, fit_intercept=fit_intercept, intercept_scaling=intercept_scaling, class_weight=class_weight, random_state=random_state, solver=solver, max_iter=max_iter, multi_class=multi_class, verbose=verbose, warm_start=warm_start, n_jobs=n_jobs, l1_ratio=l1_ratio)\n",
    "        self.fit_success = True\n",
    "        self.default_pred = 1.\n",
    "    \n",
    "    def fit(self, X, y, sample_weight = None) -> None:\n",
    "        try:\n",
    "            self.fit_success = True\n",
    "            super().fit(X, y, sample_weight)\n",
    "        except:\n",
    "            self.fit_success = False\n",
    "            self.default_pred = 1. \n",
    "            if y is not None and len(y) > 0:\n",
    "                self.default_pred = y[0]\n",
    "    \n",
    "    def predict(self, X) -> ndarray:\n",
    "        if self.fit_success:\n",
    "            return super().predict(X)\n",
    "        else:\n",
    "            return np.ones(len(X)) * self.default_pred\n",
    "    \n",
    "    def predict_proba(self, X) -> ndarray:\n",
    "        if self.fit_success:\n",
    "            return super().predict_proba(X)\n",
    "        else:\n",
    "            if self.default_pred == 1.:\n",
    "                return np.column_stack([\n",
    "                    np.zeros(len(X)),\n",
    "                    np.ones(len(X))\n",
    "                ])\n",
    "            else:\n",
    "                return np.column_stack([\n",
    "                    np.ones(len(X)),\n",
    "                    np.zeros(len(X))\n",
    "                ])"
   ]
  },
  {
   "cell_type": "code",
   "execution_count": 47,
   "metadata": {},
   "outputs": [
    {
     "data": {
      "text/plain": [
       "array([2, 3, 4, 6, 7, 8])"
      ]
     },
     "execution_count": 47,
     "metadata": {},
     "output_type": "execute_result"
    }
   ],
   "source": [
    "from modAL.models import ActiveLearner, Committee\n",
    "from sklearn.linear_model import Perceptron, LogisticRegression, SGDClassifier\n",
    "from sklearn.ensemble import RandomForestClassifier\n",
    "from modAL.disagreement import vote_entropy_sampling, max_disagreement_sampling, consensus_entropy_sampling\n",
    "\n",
    "n_members = 10\n",
    "n_byzantine = 4\n",
    "byzantine_flip_proba = 0.5 \n",
    "good_agents = np.arange(n_members)\n",
    "if n_byzantine >= 1:\n",
    "    good_agents = np.random.choice(np.arange(n_members), size=n_members-n_byzantine, replace=False)\n",
    "    good_agents.sort()\n",
    "learners = []\n",
    "\n",
    "\n",
    "for i in range(n_members):\n",
    "    learner = ActiveLearner(\n",
    "        # estimator=LogisticRegression(penalty=None, fit_intercept=False, solver='saga', max_iter=1000),\n",
    "        # estimator=LogisticRegression(penalty=None, fit_intercept=False),\n",
    "        estimator=LogisticRegressionButBetter(penalty=None, fit_intercept=False),\n",
    "        # estimator=SGDClassifier(loss='log_loss', penalty=None, fit_intercept=False, learning_rate='constant', eta0=1e-1),\n",
    "        # estimator=RandomForestClassifier(),\n",
    "        X_training=np.concatenate([X[0].reshape(1, -1), X[-1].reshape(1, -1)], axis=0),\n",
    "        y_training=np.array([Y[0], Y[-1]]),\n",
    "        bootstrap_init=True\n",
    "    )\n",
    "    learners.append(learner)\n",
    "\n",
    "committee = Committee(learners, vote_entropy_sampling)\n",
    "good_agents"
   ]
  },
  {
   "cell_type": "code",
   "execution_count": 48,
   "metadata": {},
   "outputs": [],
   "source": [
    "from sklearn.ensemble import VotingClassifier\n",
    "from sklearn.metrics import accuracy_score\n",
    "\n",
    "perf_hist = [committee.score(X, Y)]\n",
    "total_perf_hist = [committee.score(X, Y)]\n",
    "n_queries = 50\n",
    "X_pool = X.copy()[1:-1]\n",
    "Y_pool = Y.copy()[1:-1]\n",
    "X_seen = np.array([X.copy()[0], X.copy()[-1]])\n",
    "Y_seen = np.array([Y.copy()[0], Y.copy()[-1]])\n",
    "# X_pool = X.copy()\n",
    "# Y_pool = Y.copy()\n",
    "# X_seen = np.empty((1, d))\n",
    "# Y_seen = np.empty((1,))\n",
    "queries = []\n",
    "\n",
    "for i in range(n_queries):\n",
    "    # Try adding committee.rebag() here or after teach\n",
    "    committee.rebag() \n",
    "    query_idx, query_instance = committee.query(X_pool, random_tie_break=True)\n",
    "    queries.append(query_instance)\n",
    "    X_seen = np.concatenate([X_seen, X_pool[query_idx].reshape(1, -1)], axis=0)\n",
    "    Y_seen = np.concatenate([Y_seen, Y_pool[query_idx]])\n",
    "    # committee.teach(X=X_pool[query_idx].reshape(1, -1), y=Y_pool[query_idx].reshape(1,))\n",
    "    for j in range(n_members):\n",
    "        if j not in good_agents and np.random.rand() <= byzantine_flip_proba:\n",
    "            committee.learner_list[j].fit(X=X_seen, y=-Y_seen)\n",
    "        elif j not in good_agents:\n",
    "            committee.learner_list[j].fit(X=X_seen, y=Y_seen)\n",
    "        else:\n",
    "            committee.learner_list[j].teach(X=X_pool[query_idx].reshape(1, -1), y=Y_pool[query_idx].reshape(1,))\n",
    "    good_learners = [\n",
    "        committee.learner_list[good_index].estimator for good_index in good_agents\n",
    "    ]\n",
    "    preds = sign(np.column_stack([\n",
    "        good_learner.predict(X) for good_learner in good_learners\n",
    "    ]).sum(axis=1))\n",
    "    perf_hist.append(accuracy_score(Y, preds))\n",
    "    total_perf_hist.append(committee.score(X, Y))\n",
    "\n",
    "    X_pool = np.delete(X_pool, query_idx, axis=0)\n",
    "    Y_pool = np.delete(Y_pool, query_idx)"
   ]
  },
  {
   "cell_type": "code",
   "execution_count": 49,
   "metadata": {},
   "outputs": [
    {
     "name": "stdout",
     "output_type": "stream",
     "text": [
      "[ 1.24975816 -1.58432837]\n",
      "Byzantine [ 1.25942124 -1.58432837]\n",
      "Byzantine [ 1.25942124 -1.58432837]\n",
      "Good [ 1.25942124 -1.58432837]\n",
      "Good [ 1.25942124 -1.58432837]\n",
      "Good [ 1.25942124 -1.58432837]\n",
      "Byzantine [ 1.25942124 -1.58432837]\n",
      "Good [ 1.25942124 -1.58432837]\n",
      "Good [ 1.25942124 -1.58432837]\n",
      "Good [ 1.25942124 -1.58432837]\n",
      "Byzantine [ 1.25942124 -1.58432837]\n"
     ]
    }
   ],
   "source": [
    "# good_learners[0].estimator.coef_ / (good_learners[0].estimator.coef_[0, 1] / w[1])\n",
    "learned_wts = np.concatenate([learner.estimator.coef_ for learner in committee.learner_list], axis=0)\n",
    "learned_wts /= (learned_wts[:, 1] / w[1]).reshape(-1, 1)\n",
    "print(w)\n",
    "# print(learned_wts)\n",
    "for i in range(n_members):\n",
    "    print('Good' if i in good_agents else 'Byzantine', learned_wts[i])"
   ]
  },
  {
   "cell_type": "markdown",
   "metadata": {},
   "source": [
    "The problem is that flipping the class labels is useless. The same information is present with the learners, be they good or bad. Unless there are nearly 50-50 good and bad, the presence of learners with similar weights (but flipped) is good enough to get the required information. "
   ]
  },
  {
   "cell_type": "code",
   "execution_count": 50,
   "metadata": {},
   "outputs": [
    {
     "data": {
      "image/png": "[encoded data removed]",
      "text/plain": [
       "<Figure size 640x480 with 1 Axes>"
      ]
     },
     "metadata": {},
     "output_type": "display_data"
    }
   ],
   "source": [
    "plt.plot(range(n_queries+1), perf_hist, label='Good learners')\n",
    "plt.plot(range(n_queries+1), total_perf_hist, label='All learners', alpha=0.5)\n",
    "plt.plot(range(n_queries+1), np.ones((n_queries+1,)), linestyle='dashed')\n",
    "plt.xlabel('Query iteration')\n",
    "plt.ylabel('Accuracy of committee')\n",
    "plt.title('Learning curve')\n",
    "plt.legend()\n",
    "plt.show()"
   ]
  },
  {
   "cell_type": "code",
   "execution_count": 51,
   "metadata": {},
   "outputs": [
    {
     "data": {
      "image/png": "[encoded data removed]",
      "text/plain": [
       "<Figure size 640x480 with 1 Axes>"
      ]
     },
     "metadata": {},
     "output_type": "display_data"
    }
   ],
   "source": [
    "plt.plot(np.array(queries)[:, 0, 0], range(n_queries))\n",
    "plt.xlim(-10, 10)\n",
    "plt.xlabel('Dataset dim 1')\n",
    "plt.ylabel('Query iteration')\n",
    "plt.title('Query pattern')\n",
    "plt.show()"
   ]
  },
  {
   "cell_type": "code",
   "execution_count": 138,
   "metadata": {},
   "outputs": [
    {
     "data": {
      "text/plain": [
       "[0.9303482587064676,\n",
       " 0.9900497512437811,\n",
       " 0.9800995024875622,\n",
       " 0.9950248756218906,\n",
       " 1.0,\n",
       " 1.0,\n",
       " 1.0,\n",
       " 0.9950248756218906,\n",
       " 0.9900497512437811,\n",
       " 0.9900497512437811,\n",
       " 0.9950248756218906,\n",
       " 0.9950248756218906,\n",
       " 0.9950248756218906,\n",
       " 0.9950248756218906,\n",
       " 0.9950248756218906,\n",
       " 0.9950248756218906,\n",
       " 0.9950248756218906,\n",
       " 0.9950248756218906,\n",
       " 0.9950248756218906,\n",
       " 0.9950248756218906,\n",
       " 0.9950248756218906,\n",
       " 0.9950248756218906,\n",
       " 0.9950248756218906,\n",
       " 0.9950248756218906,\n",
       " 0.9950248756218906,\n",
       " 0.9950248756218906,\n",
       " 0.9950248756218906,\n",
       " 0.9950248756218906,\n",
       " 0.9950248756218906,\n",
       " 0.9950248756218906,\n",
       " 0.9950248756218906,\n",
       " 0.9950248756218906,\n",
       " 0.9950248756218906,\n",
       " 0.9950248756218906,\n",
       " 0.9950248756218906,\n",
       " 0.9950248756218906,\n",
       " 0.9950248756218906,\n",
       " 0.9950248756218906,\n",
       " 0.9950248756218906,\n",
       " 0.9950248756218906,\n",
       " 0.9950248756218906,\n",
       " 0.9950248756218906,\n",
       " 0.9950248756218906,\n",
       " 0.9950248756218906,\n",
       " 0.9950248756218906,\n",
       " 0.9900497512437811,\n",
       " 0.9950248756218906,\n",
       " 0.9950248756218906,\n",
       " 0.9900497512437811,\n",
       " 0.9900497512437811,\n",
       " 0.9900497512437811]"
      ]
     },
     "execution_count": 138,
     "metadata": {},
     "output_type": "execute_result"
    }
   ],
   "source": [
    "perf_hist"
   ]
  },
  {
   "cell_type": "code",
   "execution_count": 79,
   "metadata": {},
   "outputs": [
    {
     "data": {
      "text/plain": [
       "(50, 1, 2)"
      ]
     },
     "execution_count": 79,
     "metadata": {},
     "output_type": "execute_result"
    }
   ],
   "source": [
    "np.array(queries).shape"
   ]
  },
  {
   "cell_type": "code",
   "execution_count": 70,
   "metadata": {},
   "outputs": [
    {
     "data": {
      "text/plain": [
       "[array([[-9.9,  1. ]]),\n",
       " array([[0.6, 1. ]]),\n",
       " array([[-2.1,  1. ]]),\n",
       " array([[-0.6,  1. ]]),\n",
       " array([[-1.5,  1. ]]),\n",
       " array([[-0.1,  1. ]]),\n",
       " array([[-0.2,  1. ]]),\n",
       " array([[-0.4,  1. ]]),\n",
       " array([[-0.3,  1. ]]),\n",
       " array([[-0.5,  1. ]]),\n",
       " array([[-1.4,  1. ]]),\n",
       " array([[-1.6,  1. ]]),\n",
       " array([[-1.1,  1. ]]),\n",
       " array([[-1.2,  1. ]]),\n",
       " array([[-0.7,  1. ]]),\n",
       " array([[-1.,  1.]]),\n",
       " array([[-0.8,  1. ]]),\n",
       " array([[-0.9,  1. ]]),\n",
       " array([[0., 1.]]),\n",
       " array([[0.1, 1. ]]),\n",
       " array([[-1.3,  1. ]]),\n",
       " array([[0.2, 1. ]]),\n",
       " array([[-1.7,  1. ]]),\n",
       " array([[0.3, 1. ]]),\n",
       " array([[0.4, 1. ]]),\n",
       " array([[-1.8,  1. ]]),\n",
       " array([[-1.9,  1. ]]),\n",
       " array([[0.5, 1. ]]),\n",
       " array([[0.7, 1. ]]),\n",
       " array([[-2.,  1.]]),\n",
       " array([[0.8, 1. ]]),\n",
       " array([[-2.2,  1. ]]),\n",
       " array([[0.9, 1. ]]),\n",
       " array([[1., 1.]]),\n",
       " array([[-2.3,  1. ]]),\n",
       " array([[-2.4,  1. ]]),\n",
       " array([[1.1, 1. ]]),\n",
       " array([[-2.5,  1. ]]),\n",
       " array([[1.2, 1. ]]),\n",
       " array([[-2.6,  1. ]]),\n",
       " array([[-2.7,  1. ]]),\n",
       " array([[1.3, 1. ]]),\n",
       " array([[1.4, 1. ]]),\n",
       " array([[-2.8,  1. ]]),\n",
       " array([[1.5, 1. ]]),\n",
       " array([[-2.9,  1. ]]),\n",
       " array([[-3.,  1.]]),\n",
       " array([[1.6, 1. ]]),\n",
       " array([[1.7, 1. ]]),\n",
       " array([[1.8, 1. ]])]"
      ]
     },
     "execution_count": 70,
     "metadata": {},
     "output_type": "execute_result"
    }
   ],
   "source": [
    "queries"
   ]
  },
  {
   "cell_type": "code",
   "execution_count": null,
   "metadata": {},
   "outputs": [],
   "source": []
  }
 ],
 "metadata": {
  "kernelspec": {
   "display_name": "Python 3",
   "language": "python",
   "name": "python3"
  },
  "language_info": {
   "codemirror_mode": {
    "name": "ipython",
    "version": 3
   },
   "file_extension": ".py",
   "mimetype": "text/x-python",
   "name": "python",
   "nbconvert_exporter": "python",
   "pygments_lexer": "ipython3",
   "version": "3.10.12"
  }
 },
 "nbformat": 4,
 "nbformat_minor": 2
}
